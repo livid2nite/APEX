{
  "cells": [
    {
      "cell_type": "markdown",
      "metadata": {
        "id": "9nyhN2kmAe6h"
      },
      "source": [
        "# APEX STATS Dataset\n",
        "Prepared by Michelle Baca Reinke"
      ]
    },
    {
      "cell_type": "markdown",
      "metadata": {
        "id": "WcN022O6Ae6h"
      },
      "source": [
        "## Source Attribution\n",
        "\n",
        "Author: Data Copyright &copy; Syed Ali Taqi, All Rights Reserved\n",
        "\n",
        "Title: World University Rankings 2023\n",
        "\n",
        "Source: [World University Rankings 2023](https://www.kaggle.com/datasets/alitaqi000/world-university-rankings-2023/data)\n",
        "\n",
        "License: Open Data Commons Open Database License (ODbL) v1.0\n",
        "\n",
        "Changes: Data have been adapted for APEX STATS by Michelle Baca Reinke; data has been condensed and one variable with missing values has been removed in the example version\n"
      ]
    },
    {
      "cell_type": "markdown",
      "metadata": {
        "id": "B3EodszBAe6i"
      },
      "source": [
        "## Description of the Original Data\n",
        "\n",
        "The World University Rankings 2023 dataset include 1,799 universities across 104 countries and regions, making them the largest and most diverse university rankings to date. The table is based on 13 carefully calibrated performance indicators that measure an institution’s performance across four areas: teaching, research, knowledge transfer and international outlook. This year’s ranking analyzed over 121 million citations across more than 15.5 million research publications and included survey responses from 40,000 scholars globally. Overall, we collected over 680,000 datapoints from more than 2,500 institutions that submitted data."
      ]
    },
    {
      "cell_type": "markdown",
      "metadata": {
        "id": "PVD3gq2qAe6j"
      },
      "source": [
        "## Description of the Example\n",
        "\n",
        "Access this example using the file `example.csv`.\n",
        "\n",
        "The example file is a subset of the original data. Only the first 50 universities is included. The Female:Male Ratio column has been removed to eliminate missing values.\n",
        "\n",
        "<br>\n",
        "\n",
        "The following variables are included:\n",
        "\n",
        "y: University Rank  \n",
        "x: No of student  \n",
        "x1: No of student per staff    \n",
        "x2: International Student    \n",
        "x3: Teaching Score    \n",
        "x4: Research Score    \n",
        "x5: Citations Score     \n",
        "x6: Industry Income Score   \n",
        "x7: International Outlook Score  \n",
        "x8: OverAll Score   \n",
        "x9: Name of University   \n",
        "x10: Location   \n",
        "\n",
        "\n",
        "\n",
        "Due to missing data for Female:Male Ratio, this variable was dropped.  \n",
        "\n",
        "Subsetting the data to include only the first 50 universities resulted in cases 51 through 2341 being removed from the data file.   \n",
        "\n",
        "The resulting data file has the university rank, number of students, number of students per staff,percentage of international students, category scores (teaching, research, citations, industry income, and international outlook), overall score, and university name and location.\n"
      ]
    },
    {
      "cell_type": "markdown",
      "metadata": {
        "id": "Kjh_1wcCAe6j"
      },
      "source": [
        "## Discipline(s) Represented\n",
        "\n",
        "- Education\n",
        "- Economics\n",
        "- Business"
      ]
    },
    {
      "cell_type": "markdown",
      "metadata": {
        "id": "sqfD0Z-UAe6k"
      },
      "source": [
        "## Dataset Preview"
      ]
    },
    {
      "cell_type": "code",
      "execution_count": null,
      "metadata": {
        "colab": {
          "base_uri": "https://localhost:8080/",
          "height": 206
        },
        "id": "7l_lhPEeAe6l",
        "outputId": "fcf031ec-c12a-4e52-eb25-8dd4468514f3"
      },
      "outputs": [
        {
          "output_type": "execute_result",
          "data": {
            "text/plain": [
              "                     y       x      x1      x2      x3      x4      x5\n",
              "0          Afghanistan  64.833  60.484  55.376  49.640  42.585  36.900\n",
              "1              Albania  78.573  76.221  73.587  71.860  69.991  66.689\n",
              "2              Algeria  76.880  74.644  70.183  66.554  56.909  49.982\n",
              "3               Angola  61.147  54.311  46.093  45.324  43.931  40.546\n",
              "4  Antigua and Barbuda  77.016  75.683  73.705  71.267  68.154  65.616"
            ],
            "text/html": [
              "\n",
              "  <div id=\"df-460abadb-0192-4202-8f4c-2e2c6850bcf9\">\n",
              "    <div class=\"colab-df-container\">\n",
              "      <div>\n",
              "<style scoped>\n",
              "    .dataframe tbody tr th:only-of-type {\n",
              "        vertical-align: middle;\n",
              "    }\n",
              "\n",
              "    .dataframe tbody tr th {\n",
              "        vertical-align: top;\n",
              "    }\n",
              "\n",
              "    .dataframe thead th {\n",
              "        text-align: right;\n",
              "    }\n",
              "</style>\n",
              "<table border=\"1\" class=\"dataframe\">\n",
              "  <thead>\n",
              "    <tr style=\"text-align: right;\">\n",
              "      <th></th>\n",
              "      <th>y</th>\n",
              "      <th>x</th>\n",
              "      <th>x1</th>\n",
              "      <th>x2</th>\n",
              "      <th>x3</th>\n",
              "      <th>x4</th>\n",
              "      <th>x5</th>\n",
              "    </tr>\n",
              "  </thead>\n",
              "  <tbody>\n",
              "    <tr>\n",
              "      <th>0</th>\n",
              "      <td>Afghanistan</td>\n",
              "      <td>64.833</td>\n",
              "      <td>60.484</td>\n",
              "      <td>55.376</td>\n",
              "      <td>49.640</td>\n",
              "      <td>42.585</td>\n",
              "      <td>36.900</td>\n",
              "    </tr>\n",
              "    <tr>\n",
              "      <th>1</th>\n",
              "      <td>Albania</td>\n",
              "      <td>78.573</td>\n",
              "      <td>76.221</td>\n",
              "      <td>73.587</td>\n",
              "      <td>71.860</td>\n",
              "      <td>69.991</td>\n",
              "      <td>66.689</td>\n",
              "    </tr>\n",
              "    <tr>\n",
              "      <th>2</th>\n",
              "      <td>Algeria</td>\n",
              "      <td>76.880</td>\n",
              "      <td>74.644</td>\n",
              "      <td>70.183</td>\n",
              "      <td>66.554</td>\n",
              "      <td>56.909</td>\n",
              "      <td>49.982</td>\n",
              "    </tr>\n",
              "    <tr>\n",
              "      <th>3</th>\n",
              "      <td>Angola</td>\n",
              "      <td>61.147</td>\n",
              "      <td>54.311</td>\n",
              "      <td>46.093</td>\n",
              "      <td>45.324</td>\n",
              "      <td>43.931</td>\n",
              "      <td>40.546</td>\n",
              "    </tr>\n",
              "    <tr>\n",
              "      <th>4</th>\n",
              "      <td>Antigua and Barbuda</td>\n",
              "      <td>77.016</td>\n",
              "      <td>75.683</td>\n",
              "      <td>73.705</td>\n",
              "      <td>71.267</td>\n",
              "      <td>68.154</td>\n",
              "      <td>65.616</td>\n",
              "    </tr>\n",
              "  </tbody>\n",
              "</table>\n",
              "</div>\n",
              "      <button class=\"colab-df-convert\" onclick=\"convertToInteractive('df-460abadb-0192-4202-8f4c-2e2c6850bcf9')\"\n",
              "              title=\"Convert this dataframe to an interactive table.\"\n",
              "              style=\"display:none;\">\n",
              "        \n",
              "  <svg xmlns=\"http://www.w3.org/2000/svg\" height=\"24px\"viewBox=\"0 0 24 24\"\n",
              "       width=\"24px\">\n",
              "    <path d=\"M0 0h24v24H0V0z\" fill=\"none\"/>\n",
              "    <path d=\"M18.56 5.44l.94 2.06.94-2.06 2.06-.94-2.06-.94-.94-2.06-.94 2.06-2.06.94zm-11 1L8.5 8.5l.94-2.06 2.06-.94-2.06-.94L8.5 2.5l-.94 2.06-2.06.94zm10 10l.94 2.06.94-2.06 2.06-.94-2.06-.94-.94-2.06-.94 2.06-2.06.94z\"/><path d=\"M17.41 7.96l-1.37-1.37c-.4-.4-.92-.59-1.43-.59-.52 0-1.04.2-1.43.59L10.3 9.45l-7.72 7.72c-.78.78-.78 2.05 0 2.83L4 21.41c.39.39.9.59 1.41.59.51 0 1.02-.2 1.41-.59l7.78-7.78 2.81-2.81c.8-.78.8-2.07 0-2.86zM5.41 20L4 18.59l7.72-7.72 1.47 1.35L5.41 20z\"/>\n",
              "  </svg>\n",
              "      </button>\n",
              "      \n",
              "  <style>\n",
              "    .colab-df-container {\n",
              "      display:flex;\n",
              "      flex-wrap:wrap;\n",
              "      gap: 12px;\n",
              "    }\n",
              "\n",
              "    .colab-df-convert {\n",
              "      background-color: #E8F0FE;\n",
              "      border: none;\n",
              "      border-radius: 50%;\n",
              "      cursor: pointer;\n",
              "      display: none;\n",
              "      fill: #1967D2;\n",
              "      height: 32px;\n",
              "      padding: 0 0 0 0;\n",
              "      width: 32px;\n",
              "    }\n",
              "\n",
              "    .colab-df-convert:hover {\n",
              "      background-color: #E2EBFA;\n",
              "      box-shadow: 0px 1px 2px rgba(60, 64, 67, 0.3), 0px 1px 3px 1px rgba(60, 64, 67, 0.15);\n",
              "      fill: #174EA6;\n",
              "    }\n",
              "\n",
              "    [theme=dark] .colab-df-convert {\n",
              "      background-color: #3B4455;\n",
              "      fill: #D2E3FC;\n",
              "    }\n",
              "\n",
              "    [theme=dark] .colab-df-convert:hover {\n",
              "      background-color: #434B5C;\n",
              "      box-shadow: 0px 1px 3px 1px rgba(0, 0, 0, 0.15);\n",
              "      filter: drop-shadow(0px 1px 2px rgba(0, 0, 0, 0.3));\n",
              "      fill: #FFFFFF;\n",
              "    }\n",
              "  </style>\n",
              "\n",
              "      <script>\n",
              "        const buttonEl =\n",
              "          document.querySelector('#df-460abadb-0192-4202-8f4c-2e2c6850bcf9 button.colab-df-convert');\n",
              "        buttonEl.style.display =\n",
              "          google.colab.kernel.accessAllowed ? 'block' : 'none';\n",
              "\n",
              "        async function convertToInteractive(key) {\n",
              "          const element = document.querySelector('#df-460abadb-0192-4202-8f4c-2e2c6850bcf9');\n",
              "          const dataTable =\n",
              "            await google.colab.kernel.invokeFunction('convertToInteractive',\n",
              "                                                     [key], {});\n",
              "          if (!dataTable) return;\n",
              "\n",
              "          const docLinkHtml = 'Like what you see? Visit the ' +\n",
              "            '<a target=\"_blank\" href=https://colab.research.google.com/notebooks/data_table.ipynb>data table notebook</a>'\n",
              "            + ' to learn more about interactive tables.';\n",
              "          element.innerHTML = '';\n",
              "          dataTable['output_type'] = 'display_data';\n",
              "          await google.colab.output.renderOutput(dataTable, element);\n",
              "          const docLink = document.createElement('div');\n",
              "          docLink.innerHTML = docLinkHtml;\n",
              "          element.appendChild(docLink);\n",
              "        }\n",
              "      </script>\n",
              "    </div>\n",
              "  </div>\n",
              "  "
            ]
          },
          "metadata": {},
          "execution_count": 1
        }
      ],
      "source": [
        "#@title Setup Example Data: Health Nutrition\n",
        "\n",
        "# Import library\n",
        "import pandas as pd\n",
        "\n",
        "# Read data file: World University Rankings 2023\n",
        "data = pd.read_csv('')\n",
        "\n",
        "# Preview data\n",
        "data.head()"
      ]
    },
    {
      "cell_type": "markdown",
      "metadata": {
        "id": "Z7hggezDAe6n"
      },
      "source": [
        "## Exploratory Analyses (untested)\n",
        "\n",
        "- Descriptively examine overall score by university\n",
        "- Describe the distribution of industry income scores\n",
        "- Look for a linear relationship between rank and number of students per teacher\n",
        "- Look for a linear relationship between rank and industry income score\n",
        "- Look for a linear relationship between international student percentage and international outcome score\n",
        "- Compare the overall score by location\n",
        "\n",
        "\n",
        "## Potential Activity Starters\n",
        "\n",
        "- Data exclusion and cleaning; why were data missing for the gender ratio variable?\n",
        "- Variability in outcomes; how do we quantify and interpret variability in each scoring category, and what is its implication?\n"
      ]
    }
  ],
  "metadata": {
    "colab": {
      "provenance": []
    },
    "kernelspec": {
      "display_name": "Python 3",
      "language": "python",
      "name": "python3"
    },
    "language_info": {
      "codemirror_mode": {
        "name": "ipython",
        "version": 3
      },
      "file_extension": ".py",
      "mimetype": "text/x-python",
      "name": "python",
      "nbconvert_exporter": "python",
      "pygments_lexer": "ipython3",
      "version": "3.8.5"
    },
    "gpuClass": "standard"
  },
  "nbformat": 4,
  "nbformat_minor": 0
}